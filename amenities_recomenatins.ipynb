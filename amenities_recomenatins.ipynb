{
 "cells": [
  {
   "cell_type": "code",
   "execution_count": 1,
   "metadata": {},
   "outputs": [],
   "source": [
    "import numpy as np\n",
    "import pandas as pd \n",
    "import requests\n",
    "import faiss\n",
    "import math"
   ]
  },
  {
   "cell_type": "code",
   "execution_count": 45,
   "metadata": {},
   "outputs": [
    {
     "data": {
      "text/plain": [
       "Index(['idAmenity', 'description', 'nameAmenity', 'categories', 'price'], dtype='object')"
      ]
     },
     "execution_count": 45,
     "metadata": {},
     "output_type": "execute_result"
    }
   ],
   "source": [
    "amenities = pd.read_json('amenities.json')\n",
    "amenities['idAmenity'] = amenities['idAmenity'].astype(str)\n",
    "amenities.columns\n"
   ]
  },
  {
   "cell_type": "code",
   "execution_count": 46,
   "metadata": {},
   "outputs": [],
   "source": [
    "def textual_representation(row):\n",
    "    return f\"\"\"idAmenity: {row['idAmenity']} nameAmenity: {row['nameAmenity']} description: {row['description']} categories: {row['categories']} price: {row['price']}   \n",
    "\"\"\""
   ]
  },
  {
   "cell_type": "code",
   "execution_count": 47,
   "metadata": {},
   "outputs": [
    {
     "data": {
      "text/plain": [
       "0     idAmenity: 1 nameAmenity: Alarm Clock descript...\n",
       "1     idAmenity: 2 nameAmenity: Cleaning Studio desc...\n",
       "2     idAmenity: 3 nameAmenity: Cleaning Suite descr...\n",
       "3     idAmenity: 4 nameAmenity: Scooter Rental descr...\n",
       "4     idAmenity: 5 nameAmenity: WiFi description: Hi...\n",
       "5     idAmenity: 6 nameAmenity: View description: En...\n",
       "6     idAmenity: 7 nameAmenity: Smoking description:...\n",
       "7     idAmenity: 10 nameAmenity: Free Coffee descrip...\n",
       "8     idAmenity: 12 nameAmenity: TV 55 description: ...\n",
       "9     idAmenity: 13 nameAmenity: Baby Cot descriptio...\n",
       "10    idAmenity: 14 nameAmenity: Breakfast descripti...\n",
       "11    idAmenity: 15 nameAmenity: Early Check-in desc...\n",
       "12    idAmenity: 16 nameAmenity: Extra Bed descripti...\n",
       "13    idAmenity: 17 nameAmenity: In-room Spa Treatme...\n",
       "14    idAmenity: 18 nameAmenity: Late Check-out desc...\n",
       "15    idAmenity: 19 nameAmenity: Luxury Car Rental d...\n",
       "16    idAmenity: 20 nameAmenity: Private Airport Tra...\n",
       "17    idAmenity: 21 nameAmenity: Private Chef Servic...\n",
       "18    idAmenity: 22 nameAmenity: Private Yacht Tour ...\n",
       "19    idAmenity: 23 nameAmenity: Airport Shuttle Ser...\n",
       "20    idAmenity: 24 nameAmenity: Breakfast Buffet de...\n",
       "21    idAmenity: 25 nameAmenity: Room Service descri...\n",
       "Name: textual_representation, dtype: object"
      ]
     },
     "execution_count": 47,
     "metadata": {},
     "output_type": "execute_result"
    }
   ],
   "source": [
    "amenities['textual_representation'] = amenities.apply(textual_representation, axis=1)\n",
    "amenities['textual_representation']"
   ]
  },
  {
   "cell_type": "code",
   "execution_count": 51,
   "metadata": {},
   "outputs": [
    {
     "data": {
      "text/plain": [
       "(22, 3072)"
      ]
     },
     "execution_count": 51,
     "metadata": {},
     "output_type": "execute_result"
    }
   ],
   "source": [
    "dim = 3072\n",
    "index = faiss.IndexFlatL2(dim)\n",
    "embeddings = np.zeros((amenities.shape[0], dim), dtype=np.float32)\n",
    "embeddings.shape"
   ]
  },
  {
   "cell_type": "code",
   "execution_count": 52,
   "metadata": {},
   "outputs": [],
   "source": [
    "for i , represenrtation in enumerate(amenities['textual_representation']):\n",
    "    url = 'http://localhost:11434/api/embeddings'\n",
    "    body = {\n",
    "        'model' : 'llama3.2',\n",
    "        'prompt': represenrtation\n",
    "    }\n",
    "    request = requests.post(url,json=body)\n",
    "    embedding = request.json()['embedding']\n",
    "    embeddings[i] = np.array(embedding)\n",
    "\n",
    "index.add(embeddings)"
   ]
  },
  {
   "cell_type": "code",
   "execution_count": 53,
   "metadata": {},
   "outputs": [],
   "source": [
    "faiss.write_index(index, 'amenities.index')"
   ]
  },
  {
   "cell_type": "code",
   "execution_count": 64,
   "metadata": {},
   "outputs": [
    {
     "data": {
      "text/plain": [
       "<faiss.swigfaiss.IndexFlatL2; proxy of <Swig Object of type 'faiss::IndexFlatL2 *' at 0x000001E3217FF570> >"
      ]
     },
     "execution_count": 64,
     "metadata": {},
     "output_type": "execute_result"
    }
   ],
   "source": [
    "faiss.read_index('amenities.index')"
   ]
  },
  {
   "cell_type": "code",
   "execution_count": 71,
   "metadata": {},
   "outputs": [
    {
     "name": "stdout",
     "output_type": "stream",
     "text": [
      "(1, 3072)\n"
     ]
    }
   ],
   "source": [
    "query = ' '\n",
    "\n",
    "request = requests.post(url,json=body)\n",
    "emb = request.json()['embedding']\n",
    "emb = np.array(emb).reshape(1, -1)\n",
    "print(emb.shape)\n"
   ]
  },
  {
   "cell_type": "code",
   "execution_count": 72,
   "metadata": {},
   "outputs": [
    {
     "data": {
      "text/plain": [
       "[21, 7, 6, 8, 20, 10, 14, 9, 19, 17]"
      ]
     },
     "execution_count": 72,
     "metadata": {},
     "output_type": "execute_result"
    }
   ],
   "source": [
    "distance, indices = index.search(emb, 10)\n",
    "indices = indices.flatten().tolist()\n",
    "indices"
   ]
  },
  {
   "cell_type": "code",
   "execution_count": 73,
   "metadata": {},
   "outputs": [
    {
     "data": {
      "text/plain": [
       "21               Room Service\n",
       "7                 Free Coffee\n",
       "6                     Smoking\n",
       "8                       TV 55\n",
       "20           Breakfast Buffet\n",
       "10                  Breakfast\n",
       "14             Late Check-out\n",
       "9                    Baby Cot\n",
       "19    Airport Shuttle Service\n",
       "17       Private Chef Service\n",
       "Name: nameAmenity, dtype: object"
      ]
     },
     "execution_count": 73,
     "metadata": {},
     "output_type": "execute_result"
    }
   ],
   "source": [
    "best_matches = amenities['nameAmenity'].iloc[indices]\n",
    "best_matches"
   ]
  },
  {
   "cell_type": "code",
   "execution_count": null,
   "metadata": {},
   "outputs": [],
   "source": []
  },
  {
   "cell_type": "code",
   "execution_count": null,
   "metadata": {},
   "outputs": [],
   "source": []
  }
 ],
 "metadata": {
  "kernelspec": {
   "display_name": ".conda",
   "language": "python",
   "name": "python3"
  },
  "language_info": {
   "codemirror_mode": {
    "name": "ipython",
    "version": 3
   },
   "file_extension": ".py",
   "mimetype": "text/x-python",
   "name": "python",
   "nbconvert_exporter": "python",
   "pygments_lexer": "ipython3",
   "version": "3.10.15"
  }
 },
 "nbformat": 4,
 "nbformat_minor": 2
}
